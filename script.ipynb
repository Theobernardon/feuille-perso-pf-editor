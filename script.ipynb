{
 "cells": [
  {
   "cell_type": "code",
   "execution_count": null,
   "id": "fcc79e11",
   "metadata": {},
   "outputs": [],
   "source": [
    "import json\n",
    "from pathlib import Path\n",
    "from pypdf import PdfReader, PdfWriter"
   ]
  },
  {
   "cell_type": "code",
   "execution_count": 4,
   "id": "3ba524ab",
   "metadata": {},
   "outputs": [],
   "source": [
    "def get_value(data, path):\n",
    "    \"\"\"Récupère la valeur d’un chemin de type 'system.details.level.value'.\"\"\"\n",
    "    for part in path.split('.'):\n",
    "        if '[' in part:\n",
    "            name, idx = part[:-1].split('[')\n",
    "            data = data[name][int(idx)]\n",
    "        else:\n",
    "            data = data[part]\n",
    "    return data\n",
    "\n",
    "# Exemple de correspondances PDF ↔ JSON\n",
    "FIELD_MAP = {\n",
    "    \"NomPerso\": \"name\",                                     # Nom du personnage\n",
    "    \"Classe\": \"system.details.class.value\",                 # Classe actuelle\n",
    "    \"Niveau\": \"system.details.level.value\",                 # Niveau\n",
    "    \"PointsDeVie\": \"system.attributes.hp.value\",            # Points de vie\n",
    "    # Ajouter ici toutes les autres correspondances…\n",
    "}"
   ]
  },
  {
   "cell_type": "code",
   "execution_count": 5,
   "id": "fe1d12b4",
   "metadata": {},
   "outputs": [],
   "source": [
    "pdf_path = Path(\"Feuille de personnage Remaster (éditable) 1.1.pdf\")\n",
    "json_path = Path(\"perso.json\")"
   ]
  },
  {
   "cell_type": "code",
   "execution_count": 11,
   "id": "63357161",
   "metadata": {},
   "outputs": [
    {
     "ename": "FileNotFoundError",
     "evalue": "[Errno 2] No such file or directory: 'perso.json'",
     "output_type": "error",
     "traceback": [
      "\u001b[1;31m---------------------------------------------------------------------------\u001b[0m",
      "\u001b[1;31mFileNotFoundError\u001b[0m                         Traceback (most recent call last)",
      "Cell \u001b[1;32mIn[11], line 2\u001b[0m\n\u001b[0;32m      1\u001b[0m \u001b[38;5;66;03m# Chargement du JSON\u001b[39;00m\n\u001b[1;32m----> 2\u001b[0m \u001b[38;5;28;01mwith\u001b[39;00m \u001b[38;5;28;43mopen\u001b[39;49m\u001b[43m(\u001b[49m\u001b[43mjson_path\u001b[49m\u001b[43m,\u001b[49m\u001b[43m \u001b[49m\u001b[43mencoding\u001b[49m\u001b[38;5;241;43m=\u001b[39;49m\u001b[38;5;124;43m\"\u001b[39;49m\u001b[38;5;124;43mutf-8\u001b[39;49m\u001b[38;5;124;43m\"\u001b[39;49m\u001b[43m)\u001b[49m \u001b[38;5;28;01mas\u001b[39;00m f:\n\u001b[0;32m      3\u001b[0m     character \u001b[38;5;241m=\u001b[39m json\u001b[38;5;241m.\u001b[39mload(f)\n",
      "File \u001b[1;32mc:\\Users\\berna\\anaconda3\\envs\\MachineLearningPy310\\lib\\site-packages\\IPython\\core\\interactiveshell.py:310\u001b[0m, in \u001b[0;36m_modified_open\u001b[1;34m(file, *args, **kwargs)\u001b[0m\n\u001b[0;32m    303\u001b[0m \u001b[38;5;28;01mif\u001b[39;00m file \u001b[38;5;129;01min\u001b[39;00m {\u001b[38;5;241m0\u001b[39m, \u001b[38;5;241m1\u001b[39m, \u001b[38;5;241m2\u001b[39m}:\n\u001b[0;32m    304\u001b[0m     \u001b[38;5;28;01mraise\u001b[39;00m \u001b[38;5;167;01mValueError\u001b[39;00m(\n\u001b[0;32m    305\u001b[0m         \u001b[38;5;124mf\u001b[39m\u001b[38;5;124m\"\u001b[39m\u001b[38;5;124mIPython won\u001b[39m\u001b[38;5;124m'\u001b[39m\u001b[38;5;124mt let you open fd=\u001b[39m\u001b[38;5;132;01m{\u001b[39;00mfile\u001b[38;5;132;01m}\u001b[39;00m\u001b[38;5;124m by default \u001b[39m\u001b[38;5;124m\"\u001b[39m\n\u001b[0;32m    306\u001b[0m         \u001b[38;5;124m\"\u001b[39m\u001b[38;5;124mas it is likely to crash IPython. If you know what you are doing, \u001b[39m\u001b[38;5;124m\"\u001b[39m\n\u001b[0;32m    307\u001b[0m         \u001b[38;5;124m\"\u001b[39m\u001b[38;5;124myou can use builtins\u001b[39m\u001b[38;5;124m'\u001b[39m\u001b[38;5;124m open.\u001b[39m\u001b[38;5;124m\"\u001b[39m\n\u001b[0;32m    308\u001b[0m     )\n\u001b[1;32m--> 310\u001b[0m \u001b[38;5;28;01mreturn\u001b[39;00m io_open(file, \u001b[38;5;241m*\u001b[39margs, \u001b[38;5;241m*\u001b[39m\u001b[38;5;241m*\u001b[39mkwargs)\n",
      "\u001b[1;31mFileNotFoundError\u001b[0m: [Errno 2] No such file or directory: 'perso.json'"
     ]
    }
   ],
   "source": [
    "# Chargement du JSON\n",
    "with open(json_path, encoding=\"utf-8\") as f:\n",
    "    character = json.load(f)"
   ]
  },
  {
   "cell_type": "code",
   "execution_count": null,
   "id": "06577ebc",
   "metadata": {},
   "outputs": [],
   "source": [
    "# Lecture du PDF\n",
    "reader = PdfReader(str(pdf_path))\n",
    "writer = PdfWriter()\n",
    "\n",
    "# Copie des pages\n",
    "for page in reader.pages:\n",
    "    writer.add_page(page)\n",
    "\n",
    "# Remplissage des champs\n",
    "for pdf_field, json_path in FIELD_MAP.items():\n",
    "    try:\n",
    "        value = get_value(character, json_path)\n",
    "    except (KeyError, IndexError, TypeError):\n",
    "        continue  # Ignore les chemins manquants\n",
    "\n",
    "    writer.update_page_form_field_values(\n",
    "        writer.pages[0], {pdf_field: str(value)}\n",
    "    )\n",
    "\n",
    "# Sauvegarde du PDF rempli\n",
    "with open(\"feuille_remplie.pdf\", \"wb\") as f:\n",
    "    writer.write(f)\n"
   ]
  }
 ],
 "metadata": {
  "kernelspec": {
   "display_name": "MachineLearningPy310",
   "language": "python",
   "name": "python3"
  },
  "language_info": {
   "codemirror_mode": {
    "name": "ipython",
    "version": 3
   },
   "file_extension": ".py",
   "mimetype": "text/x-python",
   "name": "python",
   "nbconvert_exporter": "python",
   "pygments_lexer": "ipython3",
   "version": "3.10.13"
  }
 },
 "nbformat": 4,
 "nbformat_minor": 5
}
